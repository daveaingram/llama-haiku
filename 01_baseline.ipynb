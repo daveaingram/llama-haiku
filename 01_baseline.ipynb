{
 "cells": [
  {
   "cell_type": "code",
   "execution_count": 35,
   "metadata": {},
   "outputs": [
    {
     "name": "stdout",
     "output_type": "stream",
     "text": [
      "None\n"
     ]
    }
   ],
   "source": [
    "from lorax import Client\n",
    "\n",
    "endpoint_url = \"http://127.0.0.1:8080\"\n",
    "\n",
    "client = Client(endpoint_url)\n",
    "\n",
    "def complete(prompt, temperature=0.5, max_new_tokens=100, stop_sequences=[\".\"]):\n",
    "    response = client.generate(prompt, \n",
    "                                temperature=temperature, \n",
    "                                max_new_tokens=max_new_tokens, \n",
    "                                stop_sequences=stop_sequences,\n",
    "                                )\n",
    "    return response\n",
    "\n",
    "print(complete(\"Write a haiku about the weather\"))"
   ]
  }
 ],
 "metadata": {
  "kernelspec": {
   "display_name": "llm",
   "language": "python",
   "name": "python3"
  },
  "language_info": {
   "codemirror_mode": {
    "name": "ipython",
    "version": 3
   },
   "file_extension": ".py",
   "mimetype": "text/x-python",
   "name": "python",
   "nbconvert_exporter": "python",
   "pygments_lexer": "ipython3",
   "version": "3.12.0"
  }
 },
 "nbformat": 4,
 "nbformat_minor": 2
}
